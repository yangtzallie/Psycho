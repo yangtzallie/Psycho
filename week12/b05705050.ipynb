{
 "cells": [
  {
   "cell_type": "markdown",
   "metadata": {},
   "source": [
    "# Psychoinformatics - Week 12 (Exercises)\n",
    "by 楊宗樺 (b05705050@ntu.edu.tw)"
   ]
  },
  {
   "cell_type": "markdown",
   "metadata": {},
   "source": [
    "## 1 進一步研究 Regular Expressions (3 points)\n",
    "用urllib+re在<a href=\"https://www.csie.ntu.edu.tw/members/teacher.php\">臺大資工系網頁</a>搜集教師emails."
   ]
  },
  {
   "cell_type": "code",
   "execution_count": 61,
   "metadata": {
    "scrolled": false
   },
   "outputs": [],
   "source": [
    "# Please write your codes here\n",
    "import urllib\n",
    "import string\n",
    "import re\n",
    "\n",
    "req = urllib.request.Request('https://www.csie.ntu.edu.tw/members/teacher.php')\n",
    "response = urllib.request.urlopen(req)\n",
    "result = response.read().decode('utf-8')\n"
   ]
  },
  {
   "cell_type": "code",
   "execution_count": 62,
   "metadata": {},
   "outputs": [],
   "source": [
    "catch_email = re.findall('l\\[0\\][\\s\\S]{0,1000};\\n\\tfor\\ \\(var\\ i\\ \\=\\ l\\.length\\-1\\;\\ i\\ \\>\\=\\ 0\\;\\ i\\=i\\-1\\)',result)\n"
   ]
  },
  {
   "cell_type": "code",
   "execution_count": 63,
   "metadata": {},
   "outputs": [
    {
     "name": "stdout",
     "output_type": "stream",
     "text": [
      "cyy@csie.ntu.edu.tw\n",
      "cshih@csie.ntu.edu.tw\n",
      "hsuwc@csie.ntu.edu.tw\n",
      "hungsh@csie.ntu.edu.tw\n",
      "rfchang@csie.ntu.edu.tw\n",
      "kmchao@csie.ntu.edu.tw\n",
      "robin@ntu.edu.tw\n",
      "ghchen@csie.ntu.edu.tw\n",
      "hhchen@csie.ntu.edu.tw\n",
      "stchen@csie.ntu.edu.tw\n",
      "wcchen@csie.ntu.edu.tw\n",
      "mikechen@csie.ntu.edu.tw\n",
      "yvchen@csie.ntu.edu.tw\n",
      "lung-pan.cheng@csie.ntu.edu.tw\n",
      "pjcheng@csie.ntu.edu.tw\n",
      "ccf@csie.ntu.edu.tw\n",
      "lichen@csie.ntu.edu.tw\n",
      "fuh@csie.ntu.edu.tw\n",
      "hsiang@csie.ntu.edu.tw\n",
      "hchsiao@csie.ntu.edu.tw\n",
      "yjhsu@csie.ntu.edu.tw\n",
      "whsu@ntu.edu.tw\n",
      "cwhsueh@csie.ntu.edu.tw\n",
      "hung@csie.ntu.edu.tw\n",
      "jang@csie.ntu.edu.tw\n",
      "ktw@csie.ntu.edu.tw\n",
      "flai@csie.ntu.edu.tw\n",
      "jlee@csie.ntu.edu.tw\n",
      "lslee@cc.ee.ntu.edu.tw\n",
      "mslee@csie.ntu.edu.tw\n",
      "yenhuan.li@csie.ntu.edu.tw\n",
      "liao@csie.ntu.edu.tw\n",
      "cjlin@csie.ntu.edu.tw\n",
      "sdlin@csie.ntu.edu.tw\n",
      "htlin@csie.ntu.edu.tw\n",
      "plin@csie.ntu.edu.tw\n",
      "pangfeng@csie.ntu.edu.tw\n",
      "hil@csie.ntu.edu.tw\n",
      "lyuu@csie.ntu.edu.tw\n",
      "ming@csie.ntu.edu.tw\n",
      "yjoyang@csie.ntu.edu.tw\n",
      "acpang@csie.ntu.edu.tw\n",
      "tonytan@csie.ntu.edu.tw\n",
      "hsinmu@csie.ntu.edu.tw\n",
      "yjtseng@csie.ntu.edu.tw\n",
      "wjl@cmlab.csie.ntu.edu.tw\n",
      "yangc@csie.ntu.edu.tw\n",
      "cyy@csie.ntu.edu.tw\n",
      "cshih@csie.ntu.edu.tw\n",
      "hsuwc@csie.ntu.edu.tw\n",
      "hungsh@csie.ntu.edu.tw\n",
      "rfchang@csie.ntu.edu.tw\n",
      "kmchao@csie.ntu.edu.tw\n",
      "robin@ntu.edu.tw\n",
      "ghchen@csie.ntu.edu.tw\n",
      "hhchen@csie.ntu.edu.tw\n",
      "stchen@csie.ntu.edu.tw\n",
      "wcchen@csie.ntu.edu.tw\n",
      "mikechen@csie.ntu.edu.tw\n",
      "yvchen@csie.ntu.edu.tw\n",
      "lung-pan.cheng@csie.ntu.edu.tw\n",
      "pjcheng@csie.ntu.edu.tw\n",
      "ccf@csie.ntu.edu.tw\n",
      "fuh@csie.ntu.edu.tw\n",
      "hsiang@csie.ntu.edu.tw\n",
      "hchsiao@csie.ntu.edu.tw\n",
      "yjhsu@csie.ntu.edu.tw\n",
      "whsu@ntu.edu.tw\n",
      "cwhsueh@csie.ntu.edu.tw\n",
      "hung@csie.ntu.edu.tw\n",
      "jang@csie.ntu.edu.tw\n",
      "mku@csie.ntu.edu.tw\n",
      "ktw@csie.ntu.edu.tw\n",
      "jlee@csie.ntu.edu.tw\n",
      "lslee@cc.ee.ntu.edu.tw\n",
      "mslee@csie.ntu.edu.tw\n",
      "yenhuan.li@csie.ntu.edu.tw\n",
      "liao@csie.ntu.edu.tw\n",
      "cjlin@csie.ntu.edu.tw\n",
      "cwlin@csie.ntu.edu.tw\n",
      "sdlin@csie.ntu.edu.tw\n",
      "htlin@csie.ntu.edu.tw\n",
      "plin@csie.ntu.edu.tw\n",
      "pangfeng@csie.ntu.edu.tw\n",
      "hil@csie.ntu.edu.tw\n",
      "lyuu@csie.ntu.edu.tw\n",
      "ming@csie.ntu.edu.tw\n",
      "yjoyang@csie.ntu.edu.tw\n",
      "acpang@csie.ntu.edu.tw\n",
      "tonytan@csie.ntu.edu.tw\n",
      "hsinmu@csie.ntu.edu.tw\n",
      "bobwang@csie.ntu.edu.tw\n",
      "wjl@cmlab.csie.ntu.edu.tw\n",
      "yangc@csie.ntu.edu.tw\n",
      "dtlee@iis.sinica.edu.tw\n",
      "andrewcyao@tsinghua.edu.cn\n",
      "schen@isupergrid\n",
      "janeliu@iis.sinica.edu.tw\n",
      "wyma@microsoft.com\n",
      "ma@cs.ucdavis.edu\n",
      "hon@microsoft.com\n",
      "klin@uci.edu \n",
      "chc@olemap.com\n",
      "cykao@csie.ntu.edu.tw\n",
      "weichao.chen@gmail.com\n",
      "hsu@iis.sinica.edu.tw\n",
      "jackiekan@csie.ntu.edu.tw\n",
      "bywang@iis.sinica.edu.tw\n",
      "hchu@csie.ntu.edu.tw\n",
      "cyliou@csie.ntu.edu.tw\n",
      "tshsu@iis.sinica.edu.tw\n",
      "jau@csie.ntu.edu.tw\n",
      "fc_lin@csie.ntu.edu.tw\n",
      "yanwenming.ntu@gmail.com\n",
      "contact@csie.ntu.edu.tw\n"
     ]
    }
   ],
   "source": [
    "email_list=[]\n",
    "total_amount=len(catch_email)\n",
    "for i in range(total_amount):\n",
    "    a=catch_email[i]\n",
    "    l=[]\n",
    "    email=[]\n",
    "    for ii in range(0,100):\n",
    "        l.append('')\n",
    "    exec(a[:-41])\n",
    "    for t in range(len(l)):\n",
    "        if (l[t] and l[t][0]=='|'):\n",
    "            asc_code=int(l[t][1:])\n",
    "            l[t] = chr(asc_code)\n",
    "    for s in range(4,len(l)):\n",
    "        if(l[s]=='>'):\n",
    "            break\n",
    "        else:\n",
    "            email.append(l[s])\n",
    "    \n",
    "    email_list.append(email[::-1])\n",
    "for email in email_list:\n",
    "    for e in email:\n",
    "        print(e, end='')\n",
    "    print('')\n"
   ]
  },
  {
   "cell_type": "markdown",
   "metadata": {},
   "source": [
    "## 2 進一步研究Topic Modeling (3 points)\n",
    "對2.6 Topic Modeling的範例程式文本先過濾掉<a href=https://www.geeksforgeeks.org/removing-stop-words-nltk-python/>stop words</a>, 使5個主題能夠更加明確"
   ]
  },
  {
   "cell_type": "code",
   "execution_count": 104,
   "metadata": {},
   "outputs": [],
   "source": [
    "import gensim\n",
    "import gensim.downloader as api\n",
    "corpus=api.load('text8')\n",
    "dictionary=gensim.corpora.Dictionary(corpus)"
   ]
  },
  {
   "cell_type": "code",
   "execution_count": 105,
   "metadata": {},
   "outputs": [],
   "source": [
    "import nltk\n",
    "from nltk.corpus import stopwords\n",
    "from nltk.tokenize import sent_tokenize,word_tokenize\n",
    "stop_words = set(stopwords.words('english'))\n",
    "words=[]\n",
    "for w in corpus:\n",
    "    words.append ([c for c in w if not c in stop_words] )"
   ]
  },
  {
   "cell_type": "code",
   "execution_count": 108,
   "metadata": {},
   "outputs": [
    {
     "name": "stdout",
     "output_type": "stream",
     "text": [
      "Dictionary(253854 unique tokens: ['a', 'abacus', 'abilities', 'ability', 'able']...)\n",
      "[(0, 1), (1, 1), (2, 1), (3, 1)]\n"
     ]
    }
   ],
   "source": [
    "print(dictionary)\n",
    "print(dictionary.doc2bow(['a', 'abacus', 'abilities', 'ability']))\n",
    "corpus2=[dictionary.doc2bow(word) for word in words]"
   ]
  },
  {
   "cell_type": "code",
   "execution_count": 109,
   "metadata": {},
   "outputs": [],
   "source": [
    "model=gensim.models.ldamodel.LdaModel(corpus2, num_topics=5, id2word=dictionary)"
   ]
  },
  {
   "cell_type": "code",
   "execution_count": 110,
   "metadata": {},
   "outputs": [
    {
     "data": {
      "text/plain": [
       "[(0,\n",
       "  '0.036*\"one\" + 0.027*\"nine\" + 0.024*\"zero\" + 0.020*\"two\" + 0.013*\"eight\"'),\n",
       " (1,\n",
       "  '0.029*\"one\" + 0.022*\"zero\" + 0.018*\"nine\" + 0.014*\"two\" + 0.010*\"three\"'),\n",
       " (2, '0.045*\"one\" + 0.027*\"zero\" + 0.020*\"nine\" + 0.018*\"two\" + 0.012*\"five\"'),\n",
       " (3,\n",
       "  '0.034*\"one\" + 0.024*\"zero\" + 0.021*\"nine\" + 0.016*\"two\" + 0.015*\"eight\"'),\n",
       " (4,\n",
       "  '0.033*\"one\" + 0.025*\"nine\" + 0.018*\"zero\" + 0.015*\"two\" + 0.012*\"eight\"')]"
      ]
     },
     "execution_count": 110,
     "metadata": {},
     "output_type": "execute_result"
    }
   ],
   "source": [
    "model.print_topics(num_words=5)"
   ]
  },
  {
   "cell_type": "code",
   "execution_count": null,
   "metadata": {},
   "outputs": [],
   "source": [
    "# Please write your codes here"
   ]
  }
 ],
 "metadata": {
  "kernelspec": {
   "display_name": "Python 3",
   "language": "python",
   "name": "python3"
  },
  "language_info": {
   "codemirror_mode": {
    "name": "ipython",
    "version": 3
   },
   "file_extension": ".py",
   "mimetype": "text/x-python",
   "name": "python",
   "nbconvert_exporter": "python",
   "pygments_lexer": "ipython3",
   "version": "3.7.6"
  }
 },
 "nbformat": 4,
 "nbformat_minor": 2
}
