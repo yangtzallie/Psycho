{
 "cells": [
  {
   "cell_type": "markdown",
   "metadata": {},
   "source": [
    "# Psychoinformatics - Week 13 (Exercises)\n",
    "楊宗樺 (b05705050@ntu.edu.tw)"
   ]
  },
  {
   "cell_type": "markdown",
   "metadata": {},
   "source": [
    "## 1 清理Mitsuku回應 (3 points)\n",
    "利用regular expression來萃取出Mitsuku對任意問題的回應內容，這些回應不應包含任何HTML tags"
   ]
  },
  {
   "cell_type": "code",
   "execution_count": 1,
   "metadata": {
    "scrolled": true
   },
   "outputs": [
    {
     "name": "stdout",
     "output_type": "stream",
     "text": [
      "<?xml version=\"1.0\" encoding=\"UTF-8\"?>\n",
      "<!DOCTYPE html PUBLIC \"-//WAPFORUM//DTD XHTML Mobile 1.0//EN\" \n",
      "\"http://www.wapforum.org/DTD/xhtml-mobile10.dtd\">\n",
      "<html xmlns=\"http://www.w3.org/1999/xhtml\">\n",
      "<HEAD>\n",
      "<meta id=\"viewport\" name=\"viewport\" content=\"width=device-width,initial-scale=1\">\n",
      "<META HTTP-EQUIV=\"Pragma\" CONTENT=\"no-cache\">\n",
      "<META HTTP-EQUIV=\"Cache-Control\" CONTENT=\"no-cache\">\n",
      "<META HTTP-EQUIV=\"Pragma-directive\" CONTENT=\"no-cache\">\n",
      "<META HTTP-EQUIV=\"Cache-Directive\" CONTENT=\"no-cache\">\n",
      "<META HTTP-EQUIV=\"Expires\" CONTENT=\"0\">\n",
      "<META HTTP-EQUIV=\"Content-Type\" CONTENT=\"text/html; charset=windows-1252\">\n",
      "<META NAME=\"Generator\" CONTENT=\"Microsoft Word 97\">\n",
      "<TITLE>Mitsuku Chatbot</TITLE>\n",
      "<META NAME=\"Version\" CONTENT=\"8.0.3410\">\n",
      "<META NAME=\"Date\" CONTENT=\"10/11/96\">\n",
      "<META NAME=\"Template\" CONTENT=\"C:\\Program Files\\Microsoft Office\\Office\\HTML.DOT\">\n",
      "<STYLE type=\"text/css\"><!--          \n",
      "\t\t\ta:link { color: #990000; text-decoration: none }\n",
      "\t\t\ta:visited { color: #990000; text-decoration: none }\n",
      "\t\t\ta:hover { color: #ff0000; text-decoration: none }\n",
      "l1 {font-size: 40px;}\n",
      "\t\t\t--></STYLE>\n",
      "\n",
      "</HEAD>\n",
      "<BODY TEXT=\"#000000\" LINK=\"#0000ff\" VLINK=\"#800080\" BGCOLOR=\"#006699\" BACKGROUND=\"http://www.square-bear.co.uk/mitsuku/mitsuku_bg.jpg\">\n",
      "<CENTER>\n",
      "<TABLE BORDER=0 CELLSPACING=0  BGCOLOR=\"#FFFFFF\" CELLPADDING=0 WIDTH=95%>\n",
      "<TR><TD VALIGN=\"MIDDLE\" COLSPAN=4 HEIGHT=2 BGCOLOR=\"#000000\">\n",
      "</TD>\n",
      "</TR>\n",
      "<TR><TD VALIGN=\"MIDDLE\" COLSPAN=4 HEIGHT=10>\n",
      "<P ALIGN=\"CENTER\">\n",
      "<IMG SRC=\"https://web23.secure-secure.co.uk/square-bear.co.uk/mitsuku_mobile/mitsuku_banner.png\" BORDER=0 WIDTH=90% HEIGHT=90%>\n",
      "<TR><TD WIDTH=\"5%\" VALIGN=\"MIDDLE\" HEIGHT=33></TD>\n",
      "<TD WIDTH=\"90%\" COLSPAN=2 VALIGN=\"TOP\" HEIGHT=74>\n",
      "<center>\n",
      "<FONT FACE=\"Trebuchet MS,Arial\" SIZE=5 COLOR=\"#990000\">\n",
      "<form method=\"POST\" name=\"f\"><input type=\"hidden\" name=\"botcust2\" value=\"a73102fc8e4abac2\">\n",
      "<l1><i><b>Type your message to Mitsuku</b></i><br>\n",
      "<input autocomplete=\"off\" style=\"font-size:36px\" type=\"TEXT\" name=\"message\" maxlength=\"120\" size=\"30\">\n",
      "</form></l1></center>\n",
      "<P>\n",
      "<FONT FACE=\"Trebuchet MS,Arial\" style=\"font-size:36px\"  COLOR=\"#000000\">\n",
      "\n",
      " <B>You:</B> What day is today?<br> <B>Mitsuku:</B>  <P ALIGN=\"CENTER\"><img src=\"http://www.square-bear.co.uk/mitsuku/gallery/whigfield.jpg\" WIDTH=\"80%\"></img></P> Saturday. Dee, dee, na, na, na.<br> <br>    \n",
      "</font>\n",
      "\n",
      "</TD>\n",
      "<TD WIDTH=\"5%\" VALIGN=\"MIDDLE\" HEIGHT=33></TD>\n",
      "</TR>\n",
      "\n",
      "<TR>\n",
      "<TD WIDTH=\"5%\" VALIGN=\"MIDDLE\" HEIGHT=2></TD>\n",
      "<TD VALIGN=\"MIDDLE\" COLSPAN=2 HEIGHT=2 BGCOLOR=\"#990000\">\n",
      "<TD WIDTH=\"5%\" VALIGN=\"MIDDLE\" HEIGHT=2></TD>\n",
      "</TR>\n",
      "\n",
      "<TR><TD VALIGN=\"MIDDLE\" COLSPAN=4 HEIGHT=30>\n",
      "<P ALIGN=\"CENTER\">\n",
      "<FONT FACE=\"Trebuchet MS,Arial\" SIZE=6 COLOR=\"#990000\">&copy; 2020 Steve Worswick. All rights reserved.<br>\n",
      "</TD>\n",
      "</TR>\n",
      "<TR><TD VALIGN=\"MIDDLE\" COLSPAN=4 HEIGHT=2 BGCOLOR=\"#000000\">\n",
      "</TD>\n",
      "</TR>\n",
      "</TABLE>\n",
      "</CENTER>\n",
      "\n",
      "\n",
      "\n",
      "</BODY>\n",
      "</HTML>\n"
     ]
    }
   ],
   "source": [
    "import requests\n",
    "bid=\"e397abf70e345a0e\" #Mitsuku\n",
    "URI=\"https://kakko.pandorabots.com/pandora/talk?botid={}&skin=mobile\".format(bid)\n",
    "r = requests.post(URI,data={'message':'What day is today?'})\n",
    "print(r.text)"
   ]
  },
  {
   "cell_type": "code",
   "execution_count": 36,
   "metadata": {},
   "outputs": [],
   "source": [
    "import re\n",
    "def reply(text):\n",
    "    catch = re.findall('<br> <B>Mitsuku:</B>[\\s\\S]{0,1000}<br> <br>',text)\n",
    "    ans=re.sub(r'<[^>]+>', '', catch[0])\n",
    "    return(ans)\n"
   ]
  },
  {
   "cell_type": "code",
   "execution_count": 42,
   "metadata": {},
   "outputs": [
    {
     "name": "stdout",
     "output_type": "stream",
     "text": [
      " Mitsuku:   Saturday. Dee, dee, na, na, na. \n"
     ]
    }
   ],
   "source": [
    "r = requests.post(URI,data={'message':'What day is today?'})\n",
    "print(reply(r.text))"
   ]
  },
  {
   "cell_type": "markdown",
   "metadata": {},
   "source": [
    "## 2 外包多輪對話給Mitsuku (3 points)\n",
    "利用迴圈與input()指令使得使用者可以輸入任意聊天訊息與Mitsuku做多輪對話"
   ]
  },
  {
   "cell_type": "code",
   "execution_count": 46,
   "metadata": {},
   "outputs": [
    {
     "name": "stdout",
     "output_type": "stream",
     "text": [
      "hi\n",
      " Mitsuku: Hi there. \n",
      "who am I?\n",
      " Mitsuku: You have not yet told me your name. \n",
      "willie\n",
      " Mitsuku:  Do you like your hair?   \n",
      "yes\n",
      " Mitsuku: Great. \n",
      "who am i\n",
      " Mitsuku: You have not yet told me your name. \n",
      "i had told u already\n",
      " Mitsuku: Perhaps. Ooops I sent you the wrong question. \n",
      "that's fine\n",
      " Mitsuku: It's fine with me too. \n",
      "q\n"
     ]
    }
   ],
   "source": [
    "while True:\n",
    "    ask=input()\n",
    "    if ask==\"q\":\n",
    "        break\n",
    "    else:\n",
    "        r = requests.post(URI, data = {'message': ask})\n",
    "        res = reply(r.text)\n",
    "        print(res)"
   ]
  },
  {
   "cell_type": "code",
   "execution_count": null,
   "metadata": {},
   "outputs": [],
   "source": []
  }
 ],
 "metadata": {
  "kernelspec": {
   "display_name": "Python 3",
   "language": "python",
   "name": "python3"
  },
  "language_info": {
   "codemirror_mode": {
    "name": "ipython",
    "version": 3
   },
   "file_extension": ".py",
   "mimetype": "text/x-python",
   "name": "python",
   "nbconvert_exporter": "python",
   "pygments_lexer": "ipython3",
   "version": "3.7.6"
  }
 },
 "nbformat": 4,
 "nbformat_minor": 2
}
