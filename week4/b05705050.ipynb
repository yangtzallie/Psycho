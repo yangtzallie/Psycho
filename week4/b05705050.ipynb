{
 "cells": [
  {
   "cell_type": "markdown",
   "metadata": {},
   "source": [
    "# Psychoinformatics - Week 4 (Exercises)\n",
    "by 楊宗樺 (b05705050@ntu.edu.tw)"
   ]
  },
  {
   "cell_type": "markdown",
   "metadata": {},
   "source": [
    "## 進一步搜尋 Boy-Girl 版資訊 (6 points)"
   ]
  },
  {
   "cell_type": "markdown",
   "metadata": {},
   "source": [
    "1. index.html 右上角 [< 上頁 ] 中包含了總頁數資訊，請用 LXML 抓出此經常變動的數字。(2points)\n",
    "\n",
    "2. 請用 LXML 找出距離現在時間最近的一篇[爆]文標題與 URN 。(2 points)\n",
    "\n",
    "3. 請用 Selenium 在 index.html 往前翻三頁並拍照。(2 points)"
   ]
  },
  {
   "cell_type": "code",
   "execution_count": 19,
   "metadata": {},
   "outputs": [],
   "source": [
    "# No matter what you do, our autograder will only run your analyze() function \n",
    "# and expect it to return the correct answers of Q1 & Q2 as a list\n",
    "# and generate three screenshots for Q3 with '1.png', '2.png', & '3.png' as filenames.\n",
    "import urllib\n",
    "import urllib.request\n",
    "import lxml.html\n",
    "from selenium import webdriver\n",
    "def analyze():\n",
    "    # write your codes here...\n",
    "    URL='http://www.ptt.cc'\n",
    "    URN='/bbs/Boy-Girl/index.html'\n",
    "    searchURN='/bbs/Boy-Girl/search?q=recommend%3A100'\n",
    "    h={'User-Agent':'Mozilla/5.0'}\n",
    "    \n",
    "    r=urllib.request.Request(URL+URN,headers=h)\n",
    "    data=urllib.request.urlopen(r).read()\n",
    "    t=lxml.html.fromstring(data.decode('utf-8'))\n",
    "    \n",
    "    last=t.xpath('//a[contains(text(),\"‹ 上頁\")]')[0]\n",
    "    temp = 'index'\n",
    "    a=last.attrib.get('href')\n",
    "    index = int(a.find(temp))\n",
    "    last=int(a[index+5])*1000+int(a[index+6])*100+int(a[index+7])*10+int(a[index+8])\n",
    "    r=urllib.request.Request(URL+searchURN,headers=h)\n",
    "    data=urllib.request.urlopen(r).read()\n",
    "    t=lxml.html.fromstring(data.decode('utf-8'))\n",
    "    \n",
    "    mostpop=t.xpath('//div[@class=\"title\"]/a')[0]    \n",
    "    URI=URL+URN\n",
    "    driver=webdriver.Chrome()\n",
    "    driver.get(URI)\n",
    "    for i in range(1,4):\n",
    "        btn=driver.find_elements_by_xpath(\"//a[contains(text(), '‹ 上頁')]\")[0]\n",
    "        btn.click()\n",
    "        driver.save_screenshot(str(i)+'.png')\n",
    "#     for i in range(1,4): open(str(i)+'.png','a').close()\n",
    "    return [last,mostpop.text,mostpop.attrib.get('href')]"
   ]
  },
  {
   "cell_type": "code",
   "execution_count": 20,
   "metadata": {},
   "outputs": [
    {
     "data": {
      "text/plain": [
       "[4783, 'Re: [討論] 這個影片是不是仇女???', '/bbs/Boy-Girl/M.1585211559.A.92A.html']"
      ]
     },
     "execution_count": 20,
     "metadata": {},
     "output_type": "execute_result"
    }
   ],
   "source": [
    "analyze()"
   ]
  },
  {
   "cell_type": "markdown",
   "metadata": {},
   "source": [
    "### Please submit this file to http://hpc.psy.ntu.edu.tw/info before  4/9(Thur) 中午12:00 ."
   ]
  }
 ],
 "metadata": {
  "kernelspec": {
   "display_name": "Python 3",
   "language": "python",
   "name": "python3"
  },
  "language_info": {
   "codemirror_mode": {
    "name": "ipython",
    "version": 3
   },
   "file_extension": ".py",
   "mimetype": "text/x-python",
   "name": "python",
   "nbconvert_exporter": "python",
   "pygments_lexer": "ipython3",
   "version": "3.7.6"
  }
 },
 "nbformat": 4,
 "nbformat_minor": 2
}
