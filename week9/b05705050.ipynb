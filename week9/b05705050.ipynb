{
 "cells": [
  {
   "cell_type": "markdown",
   "metadata": {},
   "source": [
    "# Psychoinformatics - Week 9 (Exercises)\n",
    "by 楊宗樺 (b05705050@ntu.edu.tw)"
   ]
  },
  {
   "cell_type": "code",
   "execution_count": 52,
   "metadata": {},
   "outputs": [],
   "source": [
    "import numpy as np\n",
    "import math\n",
    "import random\n",
    "from scipy import stats\n",
    "from sklearn import *\n",
    "from sklearn import model_selection\n",
    "from matplotlib.pyplot import *\n",
    "%matplotlib inline"
   ]
  },
  {
   "cell_type": "markdown",
   "metadata": {},
   "source": [
    "## 1 檢查 machine learning pipeline (6 points)"
   ]
  },
  {
   "cell_type": "markdown",
   "metadata": {},
   "source": [
    "### 1.1 請打亂原本的Y觀察正確率是否和chance level (0.33)有差異? 若有, why? (3 points)"
   ]
  },
  {
   "cell_type": "markdown",
   "metadata": {},
   "source": [
    "#  1.1-1若在clf.fit(X,Y) 前打亂Y，則"
   ]
  },
  {
   "cell_type": "code",
   "execution_count": 53,
   "metadata": {},
   "outputs": [],
   "source": [
    "# 本題在研究打亂X和打亂Y有差別嗎?\n",
    "Accuracy1=[]\n",
    "for i in range(100):\n",
    "    iris = datasets.load_iris()\n",
    "    X=iris.data\n",
    "    Y=iris.target\n",
    "    random.shuffle(Y)\n",
    "    clf=neighbors.KNeighborsClassifier(1)\n",
    "    clf.fit(X,Y)\n",
    "    accuracy=np.mean(clf.predict(X)==Y)\n",
    "    Accuracy1.append(accuracy)"
   ]
  },
  {
   "cell_type": "code",
   "execution_count": 54,
   "metadata": {},
   "outputs": [
    {
     "name": "stdout",
     "output_type": "stream",
     "text": [
      "1.0\n",
      "0.9933333333333333\n"
     ]
    }
   ],
   "source": [
    "print(max(Accuracy1))\n",
    "print(min(Accuracy1))"
   ]
  },
  {
   "cell_type": "markdown",
   "metadata": {},
   "source": [
    "#### 可看出測試100次的準確率最高為1最低為0.993333，遠高於0.33\n",
    "#### 原因為predict的data與train的data是相同的，自然地準確率會很高"
   ]
  },
  {
   "cell_type": "markdown",
   "metadata": {},
   "source": [
    "# 1.1-2若在clf.fit(X,Y) 之後打亂Y，則"
   ]
  },
  {
   "cell_type": "code",
   "execution_count": 55,
   "metadata": {},
   "outputs": [],
   "source": [
    "# 本題在研究打亂X和打亂Y有差別嗎?\n",
    "Accuracy2=[]\n",
    "chance=[0.33]*100\n",
    "for i in range(100):\n",
    "    iris = datasets.load_iris()\n",
    "    X=iris.data\n",
    "    Y=iris.target\n",
    "    clf=neighbors.KNeighborsClassifier(1)\n",
    "    clf.fit(X,Y)\n",
    "    random.shuffle(Y)\n",
    "    accuracy=np.mean(clf.predict(X)==Y)\n",
    "    Accuracy2.append(accuracy)"
   ]
  },
  {
   "cell_type": "markdown",
   "metadata": {},
   "source": [
    "#### 使用雙尾檢定(alpha=0.01)\n",
    "#### H0: mean(Accuracy2)=0.33\n",
    "#### H1: mean(Accuracy2)!=0.33"
   ]
  },
  {
   "cell_type": "code",
   "execution_count": 56,
   "metadata": {},
   "outputs": [
    {
     "name": "stdout",
     "output_type": "stream",
     "text": [
      "-1.3057338354316104\n",
      "t = -1.3057338354316104\n",
      "p = 0.19315814340645768\n"
     ]
    }
   ],
   "source": [
    "df=200-2\n",
    "t = (np.mean(Accuracy2) - np.mean(chance)) / (np.std(Accuracy2) / math.sqrt(100)+(np.std(chance) / math.sqrt(100)))\n",
    "print(t)\n",
    "p=stats.t.sf(np.abs(t), df)*2\n",
    "print(\"t = \" + str(t))\n",
    "print(\"p = \" + str(p))"
   ]
  },
  {
   "cell_type": "markdown",
   "metadata": {},
   "source": [
    "#### p-value=0.19315814340645768>0.01\n",
    "#### =>It doesn't reject the null hypothesis\n",
    "#### =>我們有99％的信心水準來說，打亂原本的Y觀察正確率和chance level (0.33)無差異"
   ]
  },
  {
   "cell_type": "markdown",
   "metadata": {},
   "source": [
    "### 1.2 請用母數或無母數統計檢定以下accuracies中的結果是否和chance level (0.5)有差異? 若有, why? (3 points)"
   ]
  },
  {
   "cell_type": "code",
   "execution_count": 47,
   "metadata": {},
   "outputs": [],
   "source": [
    "import numpy as np\n",
    "import math\n",
    "import random\n",
    "from scipy import stats\n",
    "from sklearn import *\n",
    "from sklearn import model_selection\n",
    "from matplotlib.pyplot import *\n",
    "%matplotlib inline"
   ]
  },
  {
   "cell_type": "code",
   "execution_count": 48,
   "metadata": {},
   "outputs": [
    {
     "name": "stdout",
     "output_type": "stream",
     "text": [
      "[0 1 0 1 0 1 0 1 0 1 0 1 0 1 0 1 0 1 0 1 0 1 0 1 0 1 0 1 0 1 0 1 0 1 0 1 0\n",
      " 1 0 1 0 1 0 1 0 1 0 1 0 1 0 1 0 1 0 1 0 1 0 1 0 1 0 1 0 1 0 1 0 1 0 1 0 1\n",
      " 0 1 0 1 0 1 0 1 0 1 0 1 0 1 0 1 0 1 0 1 0 1 0 1 0 1 0 1 0 1 0 1 0 1 0 1 0\n",
      " 1 0 1 0 1 0 1 0 1 0 1 0 1 0 1 0 1 0 1 0 1 0 1 0 1 0 1 0 1 0 1 0 1 0 1 0 1\n",
      " 0 1 0 1 0 1 0 1 0 1 0 1 0 1 0 1 0 1 0 1 0 1 0 1 0 1 0 1 0 1 0 1 0 1 0 1 0\n",
      " 1 0 1 0 1 0 1 0 1 0 1 0 1 0 1]\n"
     ]
    }
   ],
   "source": [
    "Y=np.remainder(range(200),2) \n",
    "print(Y) #Y的0和1個數一樣多"
   ]
  },
  {
   "cell_type": "code",
   "execution_count": 49,
   "metadata": {},
   "outputs": [],
   "source": [
    "# 跑一百次測試:\n",
    "clf=svm.SVC()\n",
    "accuracies=[]\n",
    "for i in range(100): \n",
    " X=np.random.rand(200,2) # X取亂數\n",
    " kf=model_selection.KFold(len(Y),shuffle=True) # Leave-one-out cross-validation\n",
    " sc=model_selection.cross_val_score(clf,X,Y,cv=kf)\n",
    " accuracies.append(sc.mean())"
   ]
  },
  {
   "cell_type": "code",
   "execution_count": 50,
   "metadata": {},
   "outputs": [
    {
     "name": "stdout",
     "output_type": "stream",
     "text": [
      "[0.505, 0.495, 0.54, 0.45, 0.385, 0.54, 0.415, 0.52, 0.46, 0.525, 0.495, 0.455, 0.48, 0.57, 0.53, 0.565, 0.505, 0.545, 0.505, 0.485, 0.435, 0.555, 0.5, 0.49, 0.445, 0.39, 0.495, 0.535, 0.515, 0.47, 0.48, 0.47, 0.545, 0.51, 0.395, 0.485, 0.535, 0.38, 0.56, 0.53, 0.46, 0.565, 0.475, 0.52, 0.56, 0.55, 0.355, 0.315, 0.53, 0.55, 0.375, 0.435, 0.555, 0.48, 0.53, 0.545, 0.445, 0.465, 0.545, 0.53, 0.535, 0.39, 0.4, 0.465, 0.535, 0.525, 0.52, 0.395, 0.45, 0.475, 0.53, 0.555, 0.36, 0.525, 0.535, 0.445, 0.515, 0.57, 0.495, 0.545, 0.535, 0.525, 0.46, 0.44, 0.445, 0.405, 0.515, 0.49, 0.51, 0.42, 0.52, 0.56, 0.42, 0.495, 0.5, 0.505, 0.43, 0.45, 0.555, 0.52]\n",
      "0.48940000000000006\n",
      "0.05663161661121816\n"
     ]
    }
   ],
   "source": [
    "# Please do your statistical tests here:\n",
    "print(accuracies)\n",
    "print(np.mean(accuracies))\n",
    "print(np.std(accuracies))"
   ]
  },
  {
   "cell_type": "markdown",
   "metadata": {},
   "source": [
    "#### 使用雙尾檢定(alpha=0.01)\n",
    "#### H0: mean(accuracies)=0.5\n",
    "#### H1: mean(accuracies)!=0.5"
   ]
  },
  {
   "cell_type": "code",
   "execution_count": 51,
   "metadata": {},
   "outputs": [
    {
     "name": "stdout",
     "output_type": "stream",
     "text": [
      "-1.8717459670575938\n",
      "t = -1.8717459670575938\n",
      "p = 0.06271641135091942\n"
     ]
    }
   ],
   "source": [
    "c_level=[0.5]*100\n",
    "df=200-2\n",
    "t = (np.mean(accuracies) - np.mean(c_level)) / (np.std(accuracies) / math.sqrt(100)+(np.std(c_level) / math.sqrt(100)))\n",
    "print(t)\n",
    "p=stats.t.sf(np.abs(t), df)*2\n",
    "print(\"t = \" + str(t))\n",
    "print(\"p = \" + str(p))"
   ]
  },
  {
   "cell_type": "markdown",
   "metadata": {},
   "source": [
    "#### p-value=0.06271641135091942>0.01\n",
    "#### =>It doesn't reject the null hypothesis\n",
    "#### =>我們有99％的信心水準來說，accuracies中的結果和chance level (0.5)無差異"
   ]
  },
  {
   "cell_type": "markdown",
   "metadata": {},
   "source": [
    "### Please submit this file to http://hpc.psy.ntu.edu.tw/info before noon next Thursday."
   ]
  }
 ],
 "metadata": {
  "kernelspec": {
   "display_name": "Python 3",
   "language": "python",
   "name": "python3"
  },
  "language_info": {
   "codemirror_mode": {
    "name": "ipython",
    "version": 3
   },
   "file_extension": ".py",
   "mimetype": "text/x-python",
   "name": "python",
   "nbconvert_exporter": "python",
   "pygments_lexer": "ipython3",
   "version": "3.7.6"
  }
 },
 "nbformat": 4,
 "nbformat_minor": 2
}
